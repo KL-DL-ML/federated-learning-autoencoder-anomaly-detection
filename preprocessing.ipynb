{
 "cells": [
  {
   "cell_type": "code",
   "execution_count": 44,
   "metadata": {},
   "outputs": [],
   "source": [
    "import os\n",
    "import pandas as pd\n",
    "import numpy as np\n",
    "import matplotlib.pyplot as plt\n",
    "from scipy.signal import savgol_filter as sg\n",
    "from sklearn.preprocessing import MinMaxScaler"
   ]
  },
  {
   "cell_type": "code",
   "execution_count": 74,
   "metadata": {},
   "outputs": [],
   "source": [
    "def filtering(dataset):\n",
    "    try:\n",
    "        for column in dataset.columns:\n",
    "            try:\n",
    "                dataset[column] = sg(dataset[column], window_length=9, polyorder=5)\n",
    "            except Exception as e:\n",
    "                print(e)\n",
    "        return dataset\n",
    "    except:\n",
    "        print('Error in smoothing dataframe.')\n",
    "\n",
    "def normalize(a, min_a=None, max_a=None):\n",
    "    if min_a is None: min_a, max_a = np.min(a, axis=0), np.max(a, axis=0)\n",
    "    return (a - min_a) / (max_a - min_a + 0.0001), min_a, max_a\n",
    "\n",
    "def load_data(from_index, to_index):\n",
    "    scaler = MinMaxScaler()\n",
    "    split_rate = 0.75\n",
    "    dataset_folder = 'data/raw/ENERGY'\n",
    "    ls = pd.read_excel(os.path.join(dataset_folder, 'labels.xlsx'))\n",
    "    dataset = pd.read_csv(os.path.join(dataset_folder, 'energy_consumption_hourly.csv'))\n",
    "    dataset = dataset[from_index:to_index]\n",
    "    dataset = filtering(dataset)\n",
    "    dataset.reset_index(drop=True, inplace=True)\n",
    "    train = dataset.loc[:dataset.shape[0] * split_rate - 1]\n",
    "    test = dataset.loc[dataset.shape[0] * split_rate:]\n",
    "    train, test = train.values[0:, 1:].astype(float), test.values[0:, 1:].astype(float)\n",
    "    train, min_a, max_a = normalize(train)\n",
    "    test, _, _ = normalize(test, min_a, max_a)\n",
    "    ls = ls.values[:, 0].astype(int)\n",
    "    labels = np.zeros_like(test)\n",
    "    for i in range(-50, 50):\n",
    "        labels[ls + i, :] = 1\n",
    "    return train, test, labels"
   ]
  },
  {
   "cell_type": "code",
   "execution_count": 77,
   "metadata": {},
   "outputs": [
    {
     "name": "stdout",
     "output_type": "stream",
     "text": [
      "could not convert string to float: '2006-12-16 17:00:00'\n",
      "could not convert string to float: '2007-09-13 13:00:00'\n",
      "could not convert string to float: '2008-06-10 09:00:00'\n",
      "could not convert string to float: '2009-03-08 05:00:00'\n",
      "could not convert string to float: '2009-12-04 01:00:00'\n"
     ]
    }
   ],
   "source": [
    "folder = 'data/processed/ENERGY/filtered/dev1/'\n",
    "train, test, labels = load_data(0, 6500)\n",
    "for file in ['train', 'test', 'labels']:\n",
    "    os.makedirs(folder, exist_ok=True)\n",
    "    np.save(os.path.join(folder, f'{file}.npy'), eval(file))\n",
    "\n",
    "folder = 'data/processed/ENERGY/filtered/dev2/'\n",
    "train, test, labels = load_data(6500, 13000)\n",
    "for file in ['train', 'test', 'labels']:\n",
    "    os.makedirs(folder, exist_ok=True)\n",
    "    np.save(os.path.join(folder, f'{file}.npy'), eval(file))\n",
    "    \n",
    "folder = 'data/processed/ENERGY/filtered/dev3/'\n",
    "train, test, labels = load_data(13000, 19500)\n",
    "for file in ['train', 'test', 'labels']:\n",
    "    os.makedirs(folder, exist_ok=True)\n",
    "    np.save(os.path.join(folder, f'{file}.npy'), eval(file))\n",
    "    \n",
    "folder = 'data/processed/ENERGY/filtered/dev4/'\n",
    "train, test, labels = load_data(19500, 26000)\n",
    "for file in ['train', 'test', 'labels']:\n",
    "    os.makedirs(folder, exist_ok=True)\n",
    "    np.save(os.path.join(folder, f'{file}.npy'), eval(file))\n",
    "    \n",
    "folder = 'data/processed/ENERGY/filtered/dev5/'\n",
    "train, test, labels = load_data(26000, 32500)\n",
    "for file in ['train', 'test', 'labels']:\n",
    "    os.makedirs(folder, exist_ok=True)\n",
    "    np.save(os.path.join(folder, f'{file}.npy'), eval(file))"
   ]
  },
  {
   "cell_type": "code",
   "execution_count": null,
   "metadata": {},
   "outputs": [],
   "source": []
  }
 ],
 "metadata": {
  "kernelspec": {
   "display_name": "Python 3.9.12 ('tsad')",
   "language": "python",
   "name": "python3"
  },
  "language_info": {
   "codemirror_mode": {
    "name": "ipython",
    "version": 3
   },
   "file_extension": ".py",
   "mimetype": "text/x-python",
   "name": "python",
   "nbconvert_exporter": "python",
   "pygments_lexer": "ipython3",
   "version": "3.9.12"
  },
  "orig_nbformat": 4,
  "vscode": {
   "interpreter": {
    "hash": "e8ada1a768976ebb41c7710e5a5355e6a4abd02595c80ebf4a115842e7fd7e19"
   }
  }
 },
 "nbformat": 4,
 "nbformat_minor": 2
}
